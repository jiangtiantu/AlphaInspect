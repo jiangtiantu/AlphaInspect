{
 "cells": [
  {
   "cell_type": "code",
   "execution_count": null,
   "metadata": {},
   "outputs": [],
   "source": [
    "import os\n",
    "import sys\n",
    "from pathlib import Path\n",
    "\n",
    "# 修改当前目录到上层目录，方便跨不同IDE中使用, Notebook不支持__file__\n",
    "# pwd = str(Path(__file__).parents[1])\n",
    "pwd=r'D:\\GitHub\\quantviz'\n",
    "os.chdir(pwd)\n",
    "sys.path.append(pwd)\n",
    "# ==============="
   ]
  },
  {
   "cell_type": "code",
   "execution_count": null,
   "metadata": {},
   "outputs": [],
   "source": [
    "test1 = os.environ.get('TEST1', 'abc123')\n",
    "test2 = os.environ.get('TEST2', 'abc123')\n",
    "test3 = os.environ.get('TEST3', 'abc123')\n",
    "print('环境变量传递示例：', test1, test2, test3)"
   ]
  },
  {
   "cell_type": "code",
   "execution_count": null,
   "metadata": {},
   "outputs": [],
   "source": [
    "import matplotlib.pyplot as plt\n",
    "import polars as pl\n",
    "\n",
    "from alphainspect.reports import create_2x2_sheet, create_3x2_sheet"
   ]
  },
  {
   "cell_type": "code",
   "execution_count": null,
   "metadata": {},
   "outputs": [],
   "source": [
    "df_output = pl.read_parquet('data/data.parquet')"
   ]
  },
  {
   "cell_type": "code",
   "execution_count": null,
   "metadata": {},
   "outputs": [],
   "source": [
    "period = 5\n",
    "axvlines = ('2020-01-01',)\n",
    "\n",
    "factor = 'SMA_010'  # 考察因子\n",
    "fwd_ret_1 = 'RETURN_OO_1'  # 计算净值用的1日收益率\n",
    "forward_return = 'RETURN_OO_5'  # 计算因子IC用的5日收益率"
   ]
  },
  {
   "cell_type": "code",
   "execution_count": null,
   "metadata": {},
   "outputs": [],
   "source": [
    "create_2x2_sheet(df_output, factor, forward_return, fwd_ret_1, period=period, axvlines=axvlines)"
   ]
  },
  {
   "cell_type": "code",
   "execution_count": null,
   "metadata": {},
   "outputs": [],
   "source": [
    "create_3x2_sheet(df_output, factor, forward_return, fwd_ret_1, period=period, axvlines=axvlines)"
   ]
  }
 ],
 "metadata": {
  "kernelspec": {
   "display_name": "py311_1",
   "language": "python",
   "name": "python3"
  },
  "language_info": {
   "codemirror_mode": {
    "name": "ipython",
    "version": 3
   },
   "file_extension": ".py",
   "mimetype": "text/x-python",
   "name": "python",
   "nbconvert_exporter": "python",
   "pygments_lexer": "ipython3",
   "version": "3.11.3"
  }
 },
 "nbformat": 4,
 "nbformat_minor": 2
}
